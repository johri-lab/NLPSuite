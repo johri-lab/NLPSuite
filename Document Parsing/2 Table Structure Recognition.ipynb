{
 "cells": [
  {
   "cell_type": "code",
   "execution_count": 39,
   "id": "4e444e75",
   "metadata": {},
   "outputs": [],
   "source": [
    "# !pip install torch\n",
    "# !pip install torchvision\n",
    "# !pip install transformers\n",
    "# !pip install easyocr"
   ]
  },
  {
   "cell_type": "code",
   "execution_count": 40,
   "id": "ed708678",
   "metadata": {},
   "outputs": [],
   "source": [
    "import csv\n",
    "import easyocr\n",
    "import numpy as np\n",
    "import pandas as pd\n",
    "import torch\n",
    "\n",
    "from PIL import Image, ImageDraw\n",
    "from torchvision import transforms\n",
    "from transformers import TableTransformerForObjectDetection\n",
    "from tqdm import tqdm"
   ]
  },
  {
   "cell_type": "code",
   "execution_count": null,
   "id": "41351201",
   "metadata": {},
   "outputs": [],
   "source": [
    "device = \"cuda\" if torch.cuda.is_available() else \"cpu\""
   ]
  },
  {
   "cell_type": "code",
   "execution_count": 3,
   "id": "ee10d001",
   "metadata": {},
   "outputs": [
    {
     "data": {
      "text/plain": [
       "TableTransformerForObjectDetection(\n",
       "  (model): TableTransformerModel(\n",
       "    (backbone): TableTransformerConvModel(\n",
       "      (conv_encoder): TableTransformerConvEncoder(\n",
       "        (model): ResNetBackbone(\n",
       "          (embedder): ResNetEmbeddings(\n",
       "            (embedder): ResNetConvLayer(\n",
       "              (convolution): Conv2d(3, 64, kernel_size=(7, 7), stride=(2, 2), padding=(3, 3), bias=False)\n",
       "              (normalization): TableTransformerFrozenBatchNorm2d()\n",
       "              (activation): ReLU()\n",
       "            )\n",
       "            (pooler): MaxPool2d(kernel_size=3, stride=2, padding=1, dilation=1, ceil_mode=False)\n",
       "          )\n",
       "          (encoder): ResNetEncoder(\n",
       "            (stages): ModuleList(\n",
       "              (0): ResNetStage(\n",
       "                (layers): Sequential(\n",
       "                  (0): ResNetBasicLayer(\n",
       "                    (shortcut): Identity()\n",
       "                    (layer): Sequential(\n",
       "                      (0): ResNetConvLayer(\n",
       "                        (convolution): Conv2d(64, 64, kernel_size=(3, 3), stride=(1, 1), padding=(1, 1), bias=False)\n",
       "                        (normalization): TableTransformerFrozenBatchNorm2d()\n",
       "                        (activation): ReLU()\n",
       "                      )\n",
       "                      (1): ResNetConvLayer(\n",
       "                        (convolution): Conv2d(64, 64, kernel_size=(3, 3), stride=(1, 1), padding=(1, 1), bias=False)\n",
       "                        (normalization): TableTransformerFrozenBatchNorm2d()\n",
       "                        (activation): Identity()\n",
       "                      )\n",
       "                    )\n",
       "                    (activation): ReLU()\n",
       "                  )\n",
       "                  (1): ResNetBasicLayer(\n",
       "                    (shortcut): Identity()\n",
       "                    (layer): Sequential(\n",
       "                      (0): ResNetConvLayer(\n",
       "                        (convolution): Conv2d(64, 64, kernel_size=(3, 3), stride=(1, 1), padding=(1, 1), bias=False)\n",
       "                        (normalization): TableTransformerFrozenBatchNorm2d()\n",
       "                        (activation): ReLU()\n",
       "                      )\n",
       "                      (1): ResNetConvLayer(\n",
       "                        (convolution): Conv2d(64, 64, kernel_size=(3, 3), stride=(1, 1), padding=(1, 1), bias=False)\n",
       "                        (normalization): TableTransformerFrozenBatchNorm2d()\n",
       "                        (activation): Identity()\n",
       "                      )\n",
       "                    )\n",
       "                    (activation): ReLU()\n",
       "                  )\n",
       "                )\n",
       "              )\n",
       "              (1): ResNetStage(\n",
       "                (layers): Sequential(\n",
       "                  (0): ResNetBasicLayer(\n",
       "                    (shortcut): ResNetShortCut(\n",
       "                      (convolution): Conv2d(64, 128, kernel_size=(1, 1), stride=(2, 2), bias=False)\n",
       "                      (normalization): TableTransformerFrozenBatchNorm2d()\n",
       "                    )\n",
       "                    (layer): Sequential(\n",
       "                      (0): ResNetConvLayer(\n",
       "                        (convolution): Conv2d(64, 128, kernel_size=(3, 3), stride=(2, 2), padding=(1, 1), bias=False)\n",
       "                        (normalization): TableTransformerFrozenBatchNorm2d()\n",
       "                        (activation): ReLU()\n",
       "                      )\n",
       "                      (1): ResNetConvLayer(\n",
       "                        (convolution): Conv2d(128, 128, kernel_size=(3, 3), stride=(1, 1), padding=(1, 1), bias=False)\n",
       "                        (normalization): TableTransformerFrozenBatchNorm2d()\n",
       "                        (activation): Identity()\n",
       "                      )\n",
       "                    )\n",
       "                    (activation): ReLU()\n",
       "                  )\n",
       "                  (1): ResNetBasicLayer(\n",
       "                    (shortcut): Identity()\n",
       "                    (layer): Sequential(\n",
       "                      (0): ResNetConvLayer(\n",
       "                        (convolution): Conv2d(128, 128, kernel_size=(3, 3), stride=(1, 1), padding=(1, 1), bias=False)\n",
       "                        (normalization): TableTransformerFrozenBatchNorm2d()\n",
       "                        (activation): ReLU()\n",
       "                      )\n",
       "                      (1): ResNetConvLayer(\n",
       "                        (convolution): Conv2d(128, 128, kernel_size=(3, 3), stride=(1, 1), padding=(1, 1), bias=False)\n",
       "                        (normalization): TableTransformerFrozenBatchNorm2d()\n",
       "                        (activation): Identity()\n",
       "                      )\n",
       "                    )\n",
       "                    (activation): ReLU()\n",
       "                  )\n",
       "                )\n",
       "              )\n",
       "              (2): ResNetStage(\n",
       "                (layers): Sequential(\n",
       "                  (0): ResNetBasicLayer(\n",
       "                    (shortcut): ResNetShortCut(\n",
       "                      (convolution): Conv2d(128, 256, kernel_size=(1, 1), stride=(2, 2), bias=False)\n",
       "                      (normalization): TableTransformerFrozenBatchNorm2d()\n",
       "                    )\n",
       "                    (layer): Sequential(\n",
       "                      (0): ResNetConvLayer(\n",
       "                        (convolution): Conv2d(128, 256, kernel_size=(3, 3), stride=(2, 2), padding=(1, 1), bias=False)\n",
       "                        (normalization): TableTransformerFrozenBatchNorm2d()\n",
       "                        (activation): ReLU()\n",
       "                      )\n",
       "                      (1): ResNetConvLayer(\n",
       "                        (convolution): Conv2d(256, 256, kernel_size=(3, 3), stride=(1, 1), padding=(1, 1), bias=False)\n",
       "                        (normalization): TableTransformerFrozenBatchNorm2d()\n",
       "                        (activation): Identity()\n",
       "                      )\n",
       "                    )\n",
       "                    (activation): ReLU()\n",
       "                  )\n",
       "                  (1): ResNetBasicLayer(\n",
       "                    (shortcut): Identity()\n",
       "                    (layer): Sequential(\n",
       "                      (0): ResNetConvLayer(\n",
       "                        (convolution): Conv2d(256, 256, kernel_size=(3, 3), stride=(1, 1), padding=(1, 1), bias=False)\n",
       "                        (normalization): TableTransformerFrozenBatchNorm2d()\n",
       "                        (activation): ReLU()\n",
       "                      )\n",
       "                      (1): ResNetConvLayer(\n",
       "                        (convolution): Conv2d(256, 256, kernel_size=(3, 3), stride=(1, 1), padding=(1, 1), bias=False)\n",
       "                        (normalization): TableTransformerFrozenBatchNorm2d()\n",
       "                        (activation): Identity()\n",
       "                      )\n",
       "                    )\n",
       "                    (activation): ReLU()\n",
       "                  )\n",
       "                )\n",
       "              )\n",
       "              (3): ResNetStage(\n",
       "                (layers): Sequential(\n",
       "                  (0): ResNetBasicLayer(\n",
       "                    (shortcut): ResNetShortCut(\n",
       "                      (convolution): Conv2d(256, 512, kernel_size=(1, 1), stride=(2, 2), bias=False)\n",
       "                      (normalization): TableTransformerFrozenBatchNorm2d()\n",
       "                    )\n",
       "                    (layer): Sequential(\n",
       "                      (0): ResNetConvLayer(\n",
       "                        (convolution): Conv2d(256, 512, kernel_size=(3, 3), stride=(2, 2), padding=(1, 1), bias=False)\n",
       "                        (normalization): TableTransformerFrozenBatchNorm2d()\n",
       "                        (activation): ReLU()\n",
       "                      )\n",
       "                      (1): ResNetConvLayer(\n",
       "                        (convolution): Conv2d(512, 512, kernel_size=(3, 3), stride=(1, 1), padding=(1, 1), bias=False)\n",
       "                        (normalization): TableTransformerFrozenBatchNorm2d()\n",
       "                        (activation): Identity()\n",
       "                      )\n",
       "                    )\n",
       "                    (activation): ReLU()\n",
       "                  )\n",
       "                  (1): ResNetBasicLayer(\n",
       "                    (shortcut): Identity()\n",
       "                    (layer): Sequential(\n",
       "                      (0): ResNetConvLayer(\n",
       "                        (convolution): Conv2d(512, 512, kernel_size=(3, 3), stride=(1, 1), padding=(1, 1), bias=False)\n",
       "                        (normalization): TableTransformerFrozenBatchNorm2d()\n",
       "                        (activation): ReLU()\n",
       "                      )\n",
       "                      (1): ResNetConvLayer(\n",
       "                        (convolution): Conv2d(512, 512, kernel_size=(3, 3), stride=(1, 1), padding=(1, 1), bias=False)\n",
       "                        (normalization): TableTransformerFrozenBatchNorm2d()\n",
       "                        (activation): Identity()\n",
       "                      )\n",
       "                    )\n",
       "                    (activation): ReLU()\n",
       "                  )\n",
       "                )\n",
       "              )\n",
       "            )\n",
       "          )\n",
       "        )\n",
       "      )\n",
       "      (position_embedding): TableTransformerSinePositionEmbedding()\n",
       "    )\n",
       "    (input_projection): Conv2d(512, 256, kernel_size=(1, 1), stride=(1, 1))\n",
       "    (query_position_embeddings): Embedding(125, 256)\n",
       "    (encoder): TableTransformerEncoder(\n",
       "      (layers): ModuleList(\n",
       "        (0-5): 6 x TableTransformerEncoderLayer(\n",
       "          (self_attn): TableTransformerAttention(\n",
       "            (k_proj): Linear(in_features=256, out_features=256, bias=True)\n",
       "            (v_proj): Linear(in_features=256, out_features=256, bias=True)\n",
       "            (q_proj): Linear(in_features=256, out_features=256, bias=True)\n",
       "            (out_proj): Linear(in_features=256, out_features=256, bias=True)\n",
       "          )\n",
       "          (self_attn_layer_norm): LayerNorm((256,), eps=1e-05, elementwise_affine=True)\n",
       "          (activation_fn): ReLU()\n",
       "          (fc1): Linear(in_features=256, out_features=2048, bias=True)\n",
       "          (fc2): Linear(in_features=2048, out_features=256, bias=True)\n",
       "          (final_layer_norm): LayerNorm((256,), eps=1e-05, elementwise_affine=True)\n",
       "        )\n",
       "      )\n",
       "      (layernorm): LayerNorm((256,), eps=1e-05, elementwise_affine=True)\n",
       "    )\n",
       "    (decoder): TableTransformerDecoder(\n",
       "      (layers): ModuleList(\n",
       "        (0-5): 6 x TableTransformerDecoderLayer(\n",
       "          (self_attn): TableTransformerAttention(\n",
       "            (k_proj): Linear(in_features=256, out_features=256, bias=True)\n",
       "            (v_proj): Linear(in_features=256, out_features=256, bias=True)\n",
       "            (q_proj): Linear(in_features=256, out_features=256, bias=True)\n",
       "            (out_proj): Linear(in_features=256, out_features=256, bias=True)\n",
       "          )\n",
       "          (activation_fn): ReLU()\n",
       "          (self_attn_layer_norm): LayerNorm((256,), eps=1e-05, elementwise_affine=True)\n",
       "          (encoder_attn): TableTransformerAttention(\n",
       "            (k_proj): Linear(in_features=256, out_features=256, bias=True)\n",
       "            (v_proj): Linear(in_features=256, out_features=256, bias=True)\n",
       "            (q_proj): Linear(in_features=256, out_features=256, bias=True)\n",
       "            (out_proj): Linear(in_features=256, out_features=256, bias=True)\n",
       "          )\n",
       "          (encoder_attn_layer_norm): LayerNorm((256,), eps=1e-05, elementwise_affine=True)\n",
       "          (fc1): Linear(in_features=256, out_features=2048, bias=True)\n",
       "          (fc2): Linear(in_features=2048, out_features=256, bias=True)\n",
       "          (final_layer_norm): LayerNorm((256,), eps=1e-05, elementwise_affine=True)\n",
       "        )\n",
       "      )\n",
       "      (layernorm): LayerNorm((256,), eps=1e-05, elementwise_affine=True)\n",
       "    )\n",
       "  )\n",
       "  (class_labels_classifier): Linear(in_features=256, out_features=7, bias=True)\n",
       "  (bbox_predictor): TableTransformerMLPPredictionHead(\n",
       "    (layers): ModuleList(\n",
       "      (0-1): 2 x Linear(in_features=256, out_features=256, bias=True)\n",
       "      (2): Linear(in_features=256, out_features=4, bias=True)\n",
       "    )\n",
       "  )\n",
       ")"
      ]
     },
     "execution_count": 3,
     "metadata": {},
     "output_type": "execute_result"
    }
   ],
   "source": [
    "structure_model = TableTransformerForObjectDetection.from_pretrained(\"microsoft/table-structure-recognition-v1.1-all\")\n",
    "structure_model.to(device)\n",
    "structure_model"
   ]
  },
  {
   "cell_type": "code",
   "execution_count": 4,
   "id": "286120b1",
   "metadata": {},
   "outputs": [],
   "source": [
    "class MaxResize(object):\n",
    "    def __init__(self, max_size=800):\n",
    "        self.max_size = max_size\n",
    "\n",
    "    def __call__(self, image):\n",
    "        width, height = image.size\n",
    "        current_max_size = max(width, height)\n",
    "        scale = self.max_size / current_max_size\n",
    "        resized_image = image.resize((int(round(scale*width)), int(round(scale*height))))\n",
    "\n",
    "        return resized_image"
   ]
  },
  {
   "cell_type": "code",
   "execution_count": 5,
   "id": "6b218e45",
   "metadata": {},
   "outputs": [],
   "source": [
    "structure_transform = transforms.Compose([\n",
    "    MaxResize(1000),\n",
    "    transforms.ToTensor(),\n",
    "    transforms.Normalize(\n",
    "        [0.485, 0.456, 0.406], \n",
    "        [0.229, 0.224, 0.225]\n",
    "    )\n",
    "])"
   ]
  },
  {
   "cell_type": "code",
   "execution_count": 6,
   "id": "d8ac3187",
   "metadata": {},
   "outputs": [],
   "source": [
    "cropped_table = Image.open(\"example1.jpg\").convert(\"RGB\")"
   ]
  },
  {
   "cell_type": "code",
   "execution_count": 7,
   "id": "e81e60cc",
   "metadata": {},
   "outputs": [
    {
     "data": {
      "image/jpeg": "[encoded data removed]",
      "image/png": "[encoded data removed]",
      "text/plain": [
       "<PIL.Image.Image image mode=RGB size=451x118>"
      ]
     },
     "execution_count": 7,
     "metadata": {},
     "output_type": "execute_result"
    }
   ],
   "source": [
    "cropped_table"
   ]
  },
  {
   "cell_type": "code",
   "execution_count": 8,
   "id": "003c1368",
   "metadata": {},
   "outputs": [
    {
     "name": "stdout",
     "output_type": "stream",
     "text": [
      "torch.Size([1, 3, 262, 1000])\n"
     ]
    }
   ],
   "source": [
    "pixel_values = structure_transform(cropped_table).unsqueeze(0)\n",
    "pixel_values = pixel_values.to(device)\n",
    "print(pixel_values.shape)"
   ]
  },
  {
   "cell_type": "code",
   "execution_count": 9,
   "id": "226d19ec",
   "metadata": {},
   "outputs": [],
   "source": [
    "# forward pass\n",
    "with torch.no_grad():\n",
    "    outputs = structure_model(pixel_values)"
   ]
  },
  {
   "cell_type": "code",
   "execution_count": 10,
   "id": "60c5b001",
   "metadata": {},
   "outputs": [],
   "source": [
    "def box_cxcywh_to_xyxy(x):\n",
    "    x_c, y_c, w, h = x.unbind(-1)\n",
    "    b = [(x_c - 0.5 * w), (y_c - 0.5 * h), (x_c + 0.5 * w), (y_c + 0.5 * h)]\n",
    "    return torch.stack(b, dim=1)\n",
    "\n",
    "\n",
    "def rescale_bboxes(out_bbox, size):\n",
    "    img_w, img_h = size\n",
    "    b = box_cxcywh_to_xyxy(out_bbox)\n",
    "    b = b * torch.tensor([img_w, img_h, img_w, img_h], dtype=torch.float32)\n",
    "    return b\n",
    "\n",
    "def outputs_to_objects(outputs, img_size, id2label):\n",
    "    m = outputs.logits.softmax(-1).max(-1)\n",
    "    pred_labels = list(m.indices.detach().cpu().numpy())[0]\n",
    "    pred_scores = list(m.values.detach().cpu().numpy())[0]\n",
    "    pred_bboxes = outputs['pred_boxes'].detach().cpu()[0]\n",
    "    pred_bboxes = [elem.tolist() for elem in rescale_bboxes(pred_bboxes, img_size)]\n",
    "\n",
    "    objects = []\n",
    "    for label, score, bbox in zip(pred_labels, pred_scores, pred_bboxes):\n",
    "        class_label = id2label[int(label)]\n",
    "        if not class_label == 'no object':\n",
    "            objects.append({\n",
    "                'label': class_label, \n",
    "                'score': float(score),\n",
    "                'bbox': [float(elem) for elem in bbox]\n",
    "            })\n",
    "\n",
    "    return objects"
   ]
  },
  {
   "cell_type": "code",
   "execution_count": 11,
   "id": "b6f4244e",
   "metadata": {},
   "outputs": [
    {
     "name": "stdout",
     "output_type": "stream",
     "text": [
      "[{'label': 'table column', 'score': 0.9998883008956909, 'bbox': [178.81324768066406, 15.409523963928223, 226.68125915527344, 105.89593505859375]}, {'label': 'table spanning cell', 'score': 0.999355137348175, 'bbox': [16.76546859741211, 15.448320388793945, 178.65077209472656, 57.019107818603516]}, {'label': 'table column', 'score': 0.9999485015869141, 'bbox': [335.4537048339844, 15.638177871704102, 383.7980651855469, 105.91840362548828]}, {'label': 'table spanning cell', 'score': 0.6768660545349121, 'bbox': [226.69107055664062, 15.42088508605957, 438.0879211425781, 34.005069732666016]}, {'label': 'table spanning cell', 'score': 0.9941124320030212, 'bbox': [178.59542846679688, 15.517037391662598, 226.7539825439453, 56.8170051574707]}, {'label': 'table column header', 'score': 0.9986922144889832, 'bbox': [16.90447235107422, 15.407608985900879, 437.3479919433594, 56.86110305786133]}, {'label': 'table column', 'score': 0.9998703002929688, 'bbox': [286.08221435546875, 15.546051979064941, 335.57794189453125, 105.91142272949219]}, {'label': 'table row', 'score': 0.9997697472572327, 'bbox': [17.041690826416016, 34.138023376464844, 437.320556640625, 56.84368896484375]}, {'label': 'table column', 'score': 0.9999219179153442, 'bbox': [383.6790771484375, 15.542840957641602, 437.2865905761719, 105.90583801269531]}, {'label': 'table row', 'score': 0.99986732006073, 'bbox': [16.98858642578125, 56.87321853637695, 437.19317626953125, 75.96259307861328]}, {'label': 'table row', 'score': 0.999729573726654, 'bbox': [17.13066864013672, 75.59971618652344, 437.16717529296875, 90.80058288574219]}, {'label': 'table column', 'score': 0.9999727010726929, 'bbox': [227.73849487304688, 15.551097869873047, 285.9979553222656, 106.01560974121094]}, {'label': 'table', 'score': 0.9998781681060791, 'bbox': [17.022659301757812, 15.571544647216797, 437.24560546875, 105.91142272949219]}, {'label': 'table row', 'score': 0.9996689558029175, 'bbox': [16.997121810913086, 90.76707458496094, 437.1298522949219, 105.84750366210938]}, {'label': 'table column', 'score': 0.9998304843902588, 'bbox': [16.95053482055664, 15.462200164794922, 178.424560546875, 105.98774719238281]}, {'label': 'table row', 'score': 0.9998751878738403, 'bbox': [17.14397621154785, 15.4186429977417, 437.1436767578125, 34.087196350097656]}]\n"
     ]
    }
   ],
   "source": [
    "# update id2label to include \"no object\"\n",
    "structure_id2label = structure_model.config.id2label\n",
    "structure_id2label[len(structure_id2label)] = \"no object\"\n",
    "\n",
    "cells = outputs_to_objects(outputs, cropped_table.size, structure_id2label)\n",
    "print(cells)"
   ]
  },
  {
   "cell_type": "code",
   "execution_count": 12,
   "id": "32bda392",
   "metadata": {},
   "outputs": [
    {
     "data": {
      "image/jpeg": "[encoded data removed]",
      "image/png": "[encoded data removed]",
      "text/plain": [
       "<PIL.Image.Image image mode=RGB size=451x118>"
      ]
     },
     "execution_count": 12,
     "metadata": {},
     "output_type": "execute_result"
    }
   ],
   "source": [
    "cropped_table_visualized = cropped_table.copy()\n",
    "draw = ImageDraw.Draw(cropped_table_visualized)\n",
    "\n",
    "for cell in cells:\n",
    "    draw.rectangle(cell[\"bbox\"], outline=\"red\")\n",
    "\n",
    "cropped_table_visualized"
   ]
  },
  {
   "cell_type": "code",
   "execution_count": 13,
   "id": "7c46bcbf",
   "metadata": {},
   "outputs": [],
   "source": [
    "def get_cell_coordinates_by_row(table_data):\n",
    "    # Extract rows and columns\n",
    "    rows = [entry for entry in table_data if entry['label'] == 'table row']\n",
    "    columns = [entry for entry in table_data if entry['label'] == 'table column']\n",
    "\n",
    "    # Sort rows and columns by their Y and X coordinates, respectively\n",
    "    rows.sort(key=lambda x: x['bbox'][1])\n",
    "    columns.sort(key=lambda x: x['bbox'][0])\n",
    "\n",
    "    # Function to find cell coordinates\n",
    "    def find_cell_coordinates(row, column):\n",
    "        cell_bbox = [\n",
    "            column['bbox'][0], \n",
    "            row['bbox'][1], \n",
    "            column['bbox'][2], \n",
    "            row['bbox'][3]\n",
    "        ]\n",
    "        return cell_bbox\n",
    "\n",
    "    # Generate cell coordinates and count cells in each row\n",
    "    cell_coordinates = []\n",
    "\n",
    "    for row in rows:\n",
    "        row_cells = []\n",
    "        for column in columns:\n",
    "            cell_bbox = find_cell_coordinates(row, column)\n",
    "            row_cells.append({\n",
    "                'column': column['bbox'], \n",
    "                'cell': cell_bbox\n",
    "            })\n",
    "\n",
    "        # Sort cells in the row by X coordinate\n",
    "        row_cells.sort(key=lambda x: x['column'][0])\n",
    "\n",
    "        # Append row information to cell_coordinates\n",
    "        cell_coordinates.append({\n",
    "            'row': row['bbox'], \n",
    "            'cells': row_cells, \n",
    "            'cell_count': len(row_cells)\n",
    "        })\n",
    "\n",
    "    # Sort rows from top to bottom\n",
    "    cell_coordinates.sort(key=lambda x: x['row'][1])\n",
    "\n",
    "    return cell_coordinates\n",
    "\n",
    "cell_coordinates = get_cell_coordinates_by_row(cells)"
   ]
  },
  {
   "cell_type": "code",
   "execution_count": 14,
   "id": "c08a3552",
   "metadata": {},
   "outputs": [
    {
     "name": "stderr",
     "output_type": "stream",
     "text": [
      "Neither CUDA nor MPS are available - defaulting to CPU. Note: This module is much faster with a GPU.\n",
      "100%|██████████| 5/5 [28:38<00:00, 343.76s/it]"
     ]
    },
    {
     "name": "stdout",
     "output_type": "stream",
     "text": [
      "Max number of columns: 6\n",
      "['Dat', 'ASCl', '', '', '', '']\n",
      "['Method', 'LLM', 'SNLI', 'ANLI', 'CQA', 'SVAMP']\n",
      "['STANDARD FINETUNING', 'NYA', '88.38', '43.58', '62.19', '62.63']\n",
      "['DISTILLING STEP-BY-STEP', '20B', '89.12', '48.15', '63.25', '63.00']\n",
      "['DISTILLING STEP-BY-STEP', '54OB', '89.51', '49.58', '63.29', '65.50']\n"
     ]
    },
    {
     "name": "stderr",
     "output_type": "stream",
     "text": [
      "\n"
     ]
    }
   ],
   "source": [
    "reader = easyocr.Reader(['en']) # this needs to run only once to load the model into memory\n",
    "\n",
    "def apply_ocr(cell_coordinates):\n",
    "    # let's OCR row by row\n",
    "    data = dict()\n",
    "    max_num_columns = 0\n",
    "    for idx, row in enumerate(tqdm(cell_coordinates)):\n",
    "        row_text = []\n",
    "        for cell in row[\"cells\"]:\n",
    "            # crop cell out of image\n",
    "            cell_image = np.array(cropped_table.crop(cell[\"cell\"]))\n",
    "            # apply OCR\n",
    "            result = reader.readtext(np.array(cell_image))\n",
    "            if len(result) > 0:\n",
    "                text = \" \".join([x[1] for x in result])\n",
    "                row_text.append(text)\n",
    "\n",
    "        if len(row_text) > max_num_columns:\n",
    "            max_num_columns = len(row_text)\n",
    "\n",
    "        data[idx] = row_text\n",
    "\n",
    "    print(\"Max number of columns:\", max_num_columns)\n",
    "\n",
    "    # pad rows which don't have max_num_columns elements\n",
    "    # to make sure all rows have the same number of columns\n",
    "    for row, row_data in data.copy().items():\n",
    "        if len(row_data) != max_num_columns:\n",
    "            row_data = row_data + [\"\" for _ in range(max_num_columns - len(row_data))]\n",
    "        data[row] = row_data\n",
    "\n",
    "    return data\n",
    "\n",
    "data = apply_ocr(cell_coordinates)\n",
    "\n",
    "for row, row_data in data.items():\n",
    "    print(row_data)"
   ]
  },
  {
   "cell_type": "code",
   "execution_count": 36,
   "id": "6a8927e8",
   "metadata": {},
   "outputs": [
    {
     "data": {
      "text/plain": [
       "[['Dat', 'ASCl', '', '', '', ''],\n",
       " ['Method', 'LLM', 'SNLI', 'ANLI', 'CQA', 'SVAMP'],\n",
       " ['STANDARD FINETUNING', 'NYA', '88.38', '43.58', '62.19', '62.63'],\n",
       " ['DISTILLING STEP-BY-STEP', '20B', '89.12', '48.15', '63.25', '63.00'],\n",
       " ['DISTILLING STEP-BY-STEP', '54OB', '89.51', '49.58', '63.29', '65.50']]"
      ]
     },
     "execution_count": 36,
     "metadata": {},
     "output_type": "execute_result"
    }
   ],
   "source": [
    "list(data.values())"
   ]
  },
  {
   "cell_type": "code",
   "execution_count": null,
   "id": "03639074",
   "metadata": {},
   "outputs": [],
   "source": []
  },
  {
   "cell_type": "code",
   "execution_count": null,
   "id": "8fba8e59",
   "metadata": {},
   "outputs": [],
   "source": []
  },
  {
   "cell_type": "code",
   "execution_count": null,
   "id": "585181b2",
   "metadata": {},
   "outputs": [],
   "source": []
  },
  {
   "cell_type": "code",
   "execution_count": null,
   "id": "b90a64ec",
   "metadata": {},
   "outputs": [],
   "source": []
  }
 ],
 "metadata": {
  "kernelspec": {
   "display_name": "Python 3 (ipykernel)",
   "language": "python",
   "name": "python3"
  },
  "language_info": {
   "codemirror_mode": {
    "name": "ipython",
    "version": 3
   },
   "file_extension": ".py",
   "mimetype": "text/x-python",
   "name": "python",
   "nbconvert_exporter": "python",
   "pygments_lexer": "ipython3",
   "version": "3.10.14"
  }
 },
 "nbformat": 4,
 "nbformat_minor": 5
}
